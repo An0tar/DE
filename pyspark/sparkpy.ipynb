{
  "nbformat": 4,
  "nbformat_minor": 0,
  "metadata": {
    "colab": {
      "provenance": []
    },
    "kernelspec": {
      "name": "python3",
      "display_name": "Python 3"
    },
    "language_info": {
      "name": "python"
    }
  },
  "cells": [
    {
      "cell_type": "code",
      "source": [
        "from pyspark import SparkContext, SparkConf\n",
        "from pyspark.sql import SparkSession\n",
        "from pyspark.sql import functions as F\n",
        "\n",
        "\n",
        "# Настройка Spark\n",
        "\n",
        "spark = SparkSession.builder.appName(\"pyspark_exam\").getOrCreate()\n",
        "\n",
        "logs = spark.read.format(\"csv\").option(\"header\", \"true\").option(\"inferSchema\", \"true\").load('/content/web_server_logs.csv')\n",
        "\n",
        "top10_ip = logs.groupBy(\"ip\").agg(F.count(\"url\").alias(\"request_count\")).sort(F.col(\"request_count\").desc()).limit(10)\n",
        "print(\"top 10 active IP:\")\n",
        "top10_ip.show()\n",
        "\n",
        "http_counts = logs.groupBy(\"method\").agg(F.count(\"method\").alias(\"method_count\"))\n",
        "print(\"Request count by methods:\")\n",
        "http_counts.show()\n",
        "\n",
        "print(\"Number of 404 response: \", logs.filter('response_code = 404').count())\n",
        "\n",
        "date_statistic = logs.withColumn('date', F.to_date(F.col(\"timestamp\")))\n",
        "print(\"total responze size by date:\")\n",
        "date_statistic.groupBy(\"date\").agg(F.sum(\"response_size\").alias(\"total_response_size\")).sort(F.col(\"date\")).show()\n",
        "\n",
        "spark.stop()\n"
      ],
      "metadata": {
        "colab": {
          "base_uri": "https://localhost:8080/"
        },
        "id": "nVWx1kYIuNiH",
        "outputId": "d7ca4236-80f2-45b3-d265-c8662db0f7aa"
      },
      "execution_count": 8,
      "outputs": [
        {
          "output_type": "stream",
          "name": "stdout",
          "text": [
            "top 10 active IP:\n",
            "+--------------+-------------+\n",
            "|            ip|request_count|\n",
            "+--------------+-------------+\n",
            "|   12.21.29.78|            2|\n",
            "|  25.109.44.28|            1|\n",
            "| 104.239.87.63|            1|\n",
            "|118.180.221.28|            1|\n",
            "|153.11.180.123|            1|\n",
            "|46.208.205.165|            1|\n",
            "| 52.166.106.62|            1|\n",
            "| 160.245.31.85|            1|\n",
            "| 131.125.93.43|            1|\n",
            "| 61.194.71.253|            1|\n",
            "+--------------+-------------+\n",
            "\n",
            "Request count by methods:\n",
            "+------+------------+\n",
            "|method|method_count|\n",
            "+------+------------+\n",
            "|  POST|       24812|\n",
            "|DELETE|       25105|\n",
            "|   PUT|       25061|\n",
            "|   GET|       25022|\n",
            "+------+------------+\n",
            "\n",
            "Number of 404 response:  24985\n",
            "total responze size by date:\n",
            "+----------+-------------------+\n",
            "|      date|total_response_size|\n",
            "+----------+-------------------+\n",
            "|2025-01-01|            4547557|\n",
            "|2025-01-02|            4484407|\n",
            "|2025-01-03|            4657385|\n",
            "|2025-01-04|            4783012|\n",
            "|2025-01-05|            4420930|\n",
            "|2025-01-06|            4597857|\n",
            "|2025-01-07|            5023458|\n",
            "|2025-01-08|            4603347|\n",
            "|2025-01-09|            4864940|\n",
            "|2025-01-10|            4768565|\n",
            "|2025-01-11|            4676734|\n",
            "|2025-01-12|            4879378|\n",
            "|2025-01-13|            4420030|\n",
            "|2025-01-14|            4465805|\n",
            "|2025-01-15|            4997015|\n",
            "|2025-01-16|            4922517|\n",
            "|2025-01-17|            4691738|\n",
            "|2025-01-18|            4395987|\n",
            "|2025-01-19|            4570311|\n",
            "|2025-01-20|            4357528|\n",
            "+----------+-------------------+\n",
            "only showing top 20 rows\n",
            "\n"
          ]
        }
      ]
    },
    {
      "cell_type": "code",
      "source": [
        "logs.printSchema()"
      ],
      "metadata": {
        "id": "NfiyXLncuUZE",
        "colab": {
          "base_uri": "https://localhost:8080/"
        },
        "outputId": "18a43551-7fc4-45d3-f7ee-fcb9c98a0581"
      },
      "execution_count": 5,
      "outputs": [
        {
          "output_type": "stream",
          "name": "stdout",
          "text": [
            "root\n",
            " |-- ip: string (nullable = true)\n",
            " |-- timestamp: timestamp (nullable = true)\n",
            " |-- method: string (nullable = true)\n",
            " |-- url: string (nullable = true)\n",
            " |-- response_code: integer (nullable = true)\n",
            " |-- response_size: integer (nullable = true)\n",
            "\n"
          ]
        }
      ]
    }
  ]
}